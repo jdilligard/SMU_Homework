{
 "cells": [
  {
   "cell_type": "markdown",
   "metadata": {},
   "source": [
    "# WeatherPy\n",
    "----\n",
    "\n",
    "#### Note\n",
    "* Instructions have been included for each segment. You do not have to follow them exactly, but they are included to help you think through the steps."
   ]
  },
  {
   "cell_type": "code",
   "execution_count": 1,
   "metadata": {
    "scrolled": true
   },
   "outputs": [
    {
     "data": {
      "text/html": [
       "<style>.container {width:90% !important;}</style>"
      ],
      "text/plain": [
       "<IPython.core.display.HTML object>"
      ]
     },
     "metadata": {},
     "output_type": "display_data"
    }
   ],
   "source": [
    "# Dependencies and Setup\n",
    "import matplotlib.pyplot as plt\n",
    "from pprint import pprint\n",
    "import pandas as pd\n",
    "import numpy as np\n",
    "import requests\n",
    "import time\n",
    "from scipy.stats import linregress\n",
    "from IPython.core.display import display, HTML\n",
    "display(HTML(\"<style>.container {width:90% !important;}</style>\"))\n",
    "\n",
    "\n",
    "# Import API key\n",
    "from api_keys import weather_api_key\n",
    "\n",
    "# Incorporated citipy to determine city based on latitude and longitude\n",
    "from citipy import citipy\n",
    "\n",
    "# Output File (CSV)\n",
    "output_data_file = \"output_data/cities.csv\"\n",
    "\n",
    "# Range of latitudes and longitudes\n",
    "lat_range = (-90, 90)\n",
    "lng_range = (-180, 180)"
   ]
  },
  {
   "cell_type": "markdown",
   "metadata": {},
   "source": [
    "## Generate Cities List"
   ]
  },
  {
   "cell_type": "code",
   "execution_count": 2,
   "metadata": {},
   "outputs": [
    {
     "data": {
      "text/plain": [
       "'caravelas'"
      ]
     },
     "execution_count": 2,
     "metadata": {},
     "output_type": "execute_result"
    }
   ],
   "source": [
    "# List for holding lat_lngs and cities\n",
    "lat_lngs = []\n",
    "cities = []\n",
    "\n",
    "# Create a set of random lat and lng combinations\n",
    "lats = np.random.uniform(lat_range[0], lat_range[1], size=1500)\n",
    "lngs = np.random.uniform(lng_range[0], lng_range[1], size=1500)\n",
    "lat_lngs = zip(lats, lngs)\n",
    "\n",
    "# Identify nearest city for each lat, lng combination\n",
    "for lat_lng in lat_lngs:\n",
    "    city = citipy.nearest_city(lat_lng[0], lat_lng[1]).city_name\n",
    "    \n",
    "    # If the city is unique, then add it to a our cities list\n",
    "    if city not in cities:\n",
    "        cities.append(city)\n",
    "\n",
    "# Print the city count to confirm sufficient count\n",
    "len(cities)\n",
    "cities[1]"
   ]
  },
  {
   "cell_type": "markdown",
   "metadata": {},
   "source": [
    "### Perform API Calls\n",
    "* Perform a weather check on each city using a series of successive API calls.\n",
    "* Include a print log of each city as it'sbeing processed (with the city number and city name).\n"
   ]
  },
  {
   "cell_type": "code",
   "execution_count": 3,
   "metadata": {},
   "outputs": [],
   "source": [
    "units = \"Imperial\"\n",
    "#api.openweathermap.org/data/2.5/weather?q=cities[0]&appid={weather_api_key}\n",
    "url = f\"http://api.openweathermap.org/data/2.5/weather?q={city}&appid={weather_api_key}&units={units}\"\n",
    "response = requests.get(url).json()\n",
    "#pprint(response)\n",
    "\n"
   ]
  },
  {
   "cell_type": "code",
   "execution_count": 4,
   "metadata": {},
   "outputs": [
    {
     "name": "stdout",
     "output_type": "stream",
     "text": [
      "yellowknife\n",
      "caravelas\n",
      "norman wells\n",
      "albany\n",
      "punta arenas\n",
      "bay roberts\n",
      "tungkang\n",
      "san carlos\n",
      "mataura\n",
      "athni\n",
      "pevek\n",
      "ushuaia\n",
      "sao filipe\n",
      "cape town\n",
      "kiama\n",
      "cherskiy\n",
      "port alfred\n",
      "new norfolk\n",
      "castro\n",
      "bethel\n",
      "tuktoyaktuk\n",
      "marcona\n",
      "jacareacanga\n",
      "clyde river\n",
      "bredasdorp\n",
      "barentsburg\n",
      "cascais\n",
      "tasgaon\n",
      "cabo san lucas\n",
      "jamestown\n",
      "safaga\n",
      "east london\n",
      "cockburn town\n",
      "saint-philippe\n",
      "khatanga\n",
      "lorengau\n",
      "san cristobal\n",
      "longyearbyen\n",
      "ponta do sol\n",
      "kununurra\n",
      "chuy\n",
      "durant\n",
      "xiongzhou\n",
      "ribeira grande\n",
      "fortuna\n",
      "souillac\n",
      "port elizabeth\n",
      "yanan\n",
      "victoria\n",
      "quatre cocos\n",
      "taolanaro\n",
      "nikolskoye\n",
      "georgetown\n",
      "camana\n",
      "hobart\n",
      "rikitea\n",
      "illoqqortoormiut\n",
      "fare\n",
      "vaini\n",
      "severo-kurilsk\n",
      "borborema\n",
      "iona\n",
      "kalmunai\n",
      "grand river south east\n",
      "panino\n",
      "butaritari\n",
      "saldanha\n",
      "gobabis\n",
      "green river\n",
      "hambantota\n",
      "arraial do cabo\n",
      "mercedes\n",
      "bilibino\n",
      "tilichiki\n",
      "maumere\n",
      "saint-georges\n",
      "katsuura\n",
      "fushun\n",
      "pahrump\n",
      "puerto ayora\n",
      "ancud\n",
      "puerto palomas\n",
      "skeldon\n",
      "nizhneyansk\n",
      "isangel\n",
      "pakxan\n",
      "cidreira\n",
      "yumen\n",
      "comodoro rivadavia\n",
      "saleaula\n",
      "katherine\n",
      "kaitangata\n",
      "otane\n",
      "eenhana\n",
      "alekseyevka\n",
      "pueblo nuevo\n",
      "bambous virieux\n",
      "portland\n",
      "shingu\n",
      "severnoye\n",
      "lavrentiya\n",
      "leningradskiy\n",
      "atuona\n",
      "tiksi\n",
      "bemidji\n",
      "lemesos\n",
      "popova\n",
      "laguna\n",
      "rovinj\n",
      "saskylakh\n",
      "kodiak\n",
      "saint-francois\n",
      "sentyabrskiy\n",
      "maniwaki\n",
      "ostrovnoy\n",
      "grand gaube\n",
      "ambilobe\n",
      "ranchpar\n",
      "vysokogornyy\n",
      "nome\n",
      "hermanus\n",
      "busselton\n",
      "avarua\n",
      "hithadhoo\n",
      "plouzane\n",
      "yulara\n",
      "panjab\n",
      "lagoa\n",
      "dikson\n",
      "katangli\n",
      "limbang\n",
      "daru\n",
      "vyazemskiy\n",
      "sao miguel dos campos\n",
      "provideniya\n",
      "mahebourg\n",
      "chipinge\n",
      "iqaluit\n",
      "gladstone\n",
      "samarai\n",
      "qasigiannguit\n",
      "strezhevoy\n",
      "zvoristea\n",
      "geraldton\n",
      "boulder city\n",
      "kahului\n",
      "neyshabur\n",
      "san andres\n",
      "kristianstad\n",
      "mayo\n",
      "mar del plata\n",
      "lebu\n",
      "qaqortoq\n",
      "carnarvon\n",
      "tsihombe\n",
      "lumeje\n",
      "sorong\n",
      "lyngseidet\n",
      "kargasok\n",
      "qaanaaq\n",
      "jiujiang\n",
      "bengkulu\n",
      "tarrafal\n",
      "ilulissat\n",
      "rio gallegos\n",
      "antsirabe\n",
      "cacador\n",
      "utiroa\n",
      "roebourne\n",
      "hasaki\n",
      "airai\n",
      "hualmay\n",
      "zeya\n",
      "nandu\n",
      "mount isa\n",
      "saint-augustin\n",
      "waingapu\n",
      "naze\n",
      "jackson\n",
      "skjervoy\n",
      "olinda\n",
      "rabo de peixe\n",
      "ianca\n",
      "cayenne\n",
      "aksarka\n",
      "vardo\n",
      "narsaq\n",
      "roros\n",
      "havre-saint-pierre\n",
      "half moon bay\n",
      "muros\n",
      "luderitz\n",
      "nova olimpia\n",
      "aksum\n",
      "solano\n",
      "deputatskiy\n",
      "bozhou\n",
      "belushya guba\n",
      "dodge city\n",
      "fort-shevchenko\n",
      "mys shmidta\n",
      "saint george\n",
      "labutta\n",
      "palmer\n",
      "rosarito\n",
      "biryusinsk\n",
      "kruisfontein\n",
      "hilo\n",
      "port lincoln\n",
      "lodja\n",
      "tual\n",
      "goderich\n",
      "fort nelson\n",
      "tanete\n",
      "samusu\n",
      "bluff\n",
      "yakima\n",
      "beringen\n",
      "broken hill\n",
      "attawapiskat\n",
      "hobyo\n",
      "manggar\n",
      "seoul\n",
      "vallenar\n",
      "waddan\n",
      "sorland\n",
      "faya\n",
      "shoranur\n",
      "riyadh\n",
      "bonfim\n",
      "broome\n",
      "hami\n",
      "upernavik\n",
      "sabha\n",
      "kiunga\n",
      "norsup\n",
      "port macquarie\n",
      "riachao das neves\n",
      "sataua\n",
      "tasiilaq\n",
      "rocha\n",
      "te anau\n",
      "merauke\n",
      "alice\n",
      "murygino\n",
      "manica\n",
      "zhenlai\n",
      "barranca\n",
      "lamar\n",
      "karratha\n",
      "kupang\n",
      "karpathos\n",
      "champerico\n",
      "barrow\n",
      "santa cruz\n",
      "usinsk\n",
      "rolim de moura\n",
      "pirapora\n",
      "namibe\n",
      "goma\n",
      "kapaa\n",
      "royan\n",
      "zhoucheng\n",
      "diamantino\n",
      "itambe\n",
      "la asuncion\n",
      "vestmannaeyjar\n",
      "nanortalik\n",
      "sheltozero\n",
      "asfi\n",
      "san patricio\n",
      "ketchikan\n",
      "husavik\n",
      "port-cartier\n",
      "gushikawa\n",
      "inderborskiy\n",
      "vaiano\n",
      "okhotsk\n",
      "grindavik\n",
      "aswan\n",
      "verkhoyansk\n",
      "galesong\n",
      "thompson\n",
      "taldan\n",
      "shestakovo\n",
      "batagay-alyta\n",
      "almaznyy\n",
      "richards bay\n",
      "necochea\n",
      "surt\n",
      "mocuba\n",
      "teguldet\n",
      "port hardy\n",
      "talnakh\n",
      "temaraia\n",
      "phan thiet\n",
      "kloulklubed\n",
      "chokurdakh\n",
      "ballina\n",
      "nabire\n",
      "arlit\n",
      "ozinki\n",
      "norwich\n",
      "tamale\n",
      "palabuhanratu\n",
      "play cu\n",
      "bargal\n",
      "pijijiapan\n",
      "meulaboh\n",
      "altay\n",
      "santiago del estero\n",
      "jalu\n",
      "shar\n",
      "itoman\n",
      "high level\n",
      "xichang\n",
      "lolua\n",
      "abiy adi\n",
      "amderma\n",
      "severnyy\n",
      "ratnagiri\n",
      "guerrero negro\n",
      "axim\n",
      "geresk\n",
      "gombong\n",
      "setubal\n",
      "bolungarvik\n",
      "acarau\n",
      "kavaratti\n",
      "muscle shoals\n",
      "burnie\n",
      "phrai bung\n",
      "magadan\n",
      "nuuk\n",
      "lobito\n",
      "teknaf\n",
      "nieuw nickerie\n",
      "northam\n",
      "hofn\n",
      "clinton\n",
      "great yarmouth\n",
      "pundaguitan\n",
      "soyo\n",
      "constitucion\n",
      "melaka\n",
      "port-gentil\n",
      "mezen\n",
      "ust-kamchatsk\n",
      "vila franca do campo\n",
      "jinchengjiang\n",
      "mezhevoy\n",
      "zyryanka\n",
      "hakvik\n",
      "paamiut\n",
      "diamond bar\n",
      "union city\n",
      "flinders\n",
      "kitgum\n",
      "westport\n",
      "salzwedel\n",
      "abnub\n",
      "torbay\n",
      "labuhan\n",
      "ordynskoye\n",
      "wasilla\n",
      "leh\n",
      "brigantine\n",
      "kamenka\n",
      "malanje\n",
      "mao\n",
      "umzimvubu\n",
      "natal\n",
      "tinogboc\n",
      "manokwari\n",
      "humaita\n",
      "kavieng\n",
      "tyulgan\n",
      "belmonte\n",
      "lowestoft\n",
      "esperance\n",
      "leninsk\n",
      "tenerife\n",
      "zhuhai\n",
      "bani\n",
      "balikpapan\n",
      "tiarei\n",
      "makakilo city\n",
      "coruripe\n",
      "coihaique\n",
      "greenville\n",
      "vila\n",
      "kostomuksha\n",
      "matagami\n",
      "codrington\n",
      "tukrah\n",
      "watertown\n",
      "faanui\n",
      "alofi\n",
      "yakeshi\n",
      "lazaro cardenas\n",
      "ha giang\n",
      "khangarh\n",
      "gavle\n",
      "khani\n",
      "launceston\n",
      "yankton\n",
      "kondinskoye\n",
      "grootfontein\n",
      "magan\n",
      "mineros\n",
      "lompoc\n",
      "wamba\n",
      "dubti\n",
      "halalo\n",
      "sompeta\n",
      "chazuta\n",
      "acapulco\n",
      "asyut\n",
      "shikarpur\n",
      "klaksvik\n",
      "higuey\n",
      "zhigansk\n",
      "college\n",
      "thunder bay\n",
      "phitsanulok\n",
      "rawson\n",
      "yerbogachen\n",
      "dingle\n",
      "bahir dar\n",
      "mudanya\n",
      "sabang\n",
      "praya\n",
      "verkhnevilyuysk\n",
      "tomohon\n",
      "foligno\n",
      "telemaco borba\n",
      "sanica\n",
      "cap malheureux\n",
      "ulladulla\n",
      "udachnyy\n",
      "queanbeyan\n",
      "tupik\n",
      "beringovskiy\n",
      "stara synyava\n",
      "kharp\n",
      "andros town\n",
      "havelock\n",
      "sitka\n",
      "oistins\n",
      "yar-sale\n",
      "morro bay\n",
      "blythe\n",
      "padang\n",
      "fajardo\n",
      "toora-khem\n",
      "treinta y tres\n",
      "darlowo\n",
      "shelburne\n",
      "matara\n",
      "sydney\n",
      "awbari\n",
      "salalah\n",
      "portel\n",
      "harper\n",
      "anadyr\n",
      "baculin\n",
      "campbell river\n",
      "havoysund\n",
      "beruwala\n",
      "aleksandrov gay\n",
      "the valley\n",
      "san pedro de ycuamandiyu\n",
      "hihifo\n",
      "adrar\n",
      "sisimiut\n",
      "namatanai\n",
      "avera\n",
      "antalaha\n",
      "maceio\n",
      "carman\n",
      "touros\n",
      "odienne\n",
      "ulaangom\n",
      "prosperous\n",
      "pisco\n",
      "pringsewu\n",
      "karauzyak\n",
      "tura\n",
      "fonte boa\n",
      "jaguarari\n",
      "pierre\n",
      "panji\n",
      "macaboboni\n",
      "kasulu\n",
      "thinadhoo\n",
      "pitimbu\n",
      "ust-maya\n",
      "verkh-chebula\n",
      "ust-nera\n",
      "rockingham\n",
      "casa nova\n",
      "alihe\n",
      "port shepstone\n",
      "rimbey\n",
      "imbituba\n",
      "bilma\n",
      "prieska\n",
      "pithapuram\n",
      "vao\n",
      "malakal\n",
      "datong\n",
      "wanning\n",
      "auki\n",
      "biggar\n",
      "los llanos de aridane\n",
      "coahuayana\n",
      "ouahigouya\n",
      "presidencia roque saenz pena\n",
      "canutama\n",
      "nuevo progreso\n",
      "tocopilla\n",
      "haines junction\n",
      "viedma\n",
      "camacha\n",
      "doctor pedro p. pena\n",
      "bur gabo\n",
      "dunga bunga\n",
      "flin flon\n",
      "saint anthony\n",
      "bocaranga\n",
      "margate\n",
      "kamenskoye\n",
      "yabrud\n",
      "praia da vitoria\n",
      "shasta lake\n",
      "omboue\n",
      "keti bandar\n",
      "tabiauea\n",
      "mount gambier\n",
      "oranjestad\n",
      "rumoi\n",
      "hamilton\n",
      "fukue\n",
      "ligayan\n",
      "hayvoron\n",
      "kapoeta\n",
      "carutapera\n",
      "mudanjiang\n",
      "buala\n",
      "hatillo\n",
      "jhang\n",
      "roald\n",
      "la rochelle\n",
      "pyrzyce\n",
      "onega\n",
      "kirchzarten\n",
      "mamburao\n",
      "muravlenko\n",
      "awjilah\n",
      "saeby\n",
      "maracacume\n",
      "skagastrond\n",
      "dryden\n",
      "whitehorse\n",
      "mrirt\n",
      "ambovombe\n",
      "taoudenni\n",
      "hauterive\n",
      "san quintin\n",
      "aklavik\n",
      "omaruru\n",
      "tautira\n",
      "urengoy\n",
      "aiken\n",
      "saint-joseph\n",
      "jiroft\n",
      "vieux-habitants\n",
      "manaure\n",
      "san rafael\n",
      "tilaran\n",
      "florianopolis\n",
      "turukhansk\n",
      "ulaanbaatar\n",
      "kirtipur\n",
      "baringo\n",
      "joshimath\n",
      "nantucket\n",
      "aqtobe\n",
      "port augusta\n",
      "opuwo\n",
      "bushehr\n",
      "izhma\n",
      "nhulunbuy\n",
      "maryville\n",
      "celestun\n",
      "russell\n",
      "asau\n",
      "sorvag\n",
      "marquette\n",
      "port blair\n",
      "batemans bay\n",
      "tuatapere\n",
      "santiago\n",
      "nishihara\n",
      "virginia beach\n",
      "san policarpo\n",
      "gamba\n",
      "keokuk\n",
      "balykshi\n",
      "maldonado\n",
      "komsomolskiy\n",
      "fartura\n",
      "kazachinskoye\n",
      "kosa\n",
      "bud\n",
      "moose factory\n",
      "marzuq\n",
      "kamaishi\n",
      "bella vista\n",
      "cocobeach\n",
      "valsad\n"
     ]
    }
   ],
   "source": [
    "\n",
    "city_name = []\n",
    "city_id = []\n",
    "city_temp = []\n",
    "city_lat = []\n",
    "city_lon = []\n",
    "city_hum = []\n",
    "city_clouds = []\n",
    "city_temp_max = []\n",
    "city_wind = []\n",
    "city_country = []\n",
    "city_hem = []\n",
    "city_ideal = []\n",
    "units = \"Imperial\"\n",
    "\n",
    "for city in cities:\n",
    "    \n",
    "    try:\n",
    "        #api.openweathermap.org/data/2.5/weather?q=cities[0]&appid={weather_api_key}\n",
    "        url = f\"http://api.openweathermap.org/data/2.5/weather?q={city}&appid={weather_api_key}&units={units}\"\n",
    "        response = requests.get(url).json()\n",
    "        #pprint(response)\n",
    "        city_name.append(response['name'])\n",
    "        city_id.append(response['id'])\n",
    "        city_temp.append(response['main']['temp'])\n",
    "        city_lat.append(response['coord']['lat'])\n",
    "        this_lat = response['coord']['lat']\n",
    "\n",
    "        city_lon.append(response['coord']['lon'])\n",
    "        city_hum.append(response['main']['humidity'])\n",
    "        city_clouds.append(response['clouds']['all'])\n",
    "        this_clouds = response['clouds']['all']\n",
    "        city_temp_max.append(response['main']['temp_max'])\n",
    "        this_temp_max = response['main']['temp_max']\n",
    "        city_wind.append(response['wind']['speed'])\n",
    "        this_wind = response['wind']['speed']\n",
    "        city_country.append(response['sys']['country'])\n",
    "\n",
    "        if this_lat >= 0:\n",
    "            city_hem.append('North')\n",
    "        else:\n",
    "            city_hem.append('South')\n",
    "\n",
    "        #Narrow down the DataFrame to find your ideal weather condition. For example:\n",
    "        #A max temperature lower than 80 degrees but higher than 70.\n",
    "         # * Wind speed less than 10 mph.\n",
    "        #  * Zero cloudiness.\n",
    "\n",
    "        if (this_wind < 10) and (this_clouds == 0) and (this_temp_max >70 and this_temp_max < 80):\n",
    "            city_ideal.append('True')\n",
    "        else:\n",
    "            city_ideal.append('False')\n",
    "    except:\n",
    "        pass\n",
    "    \n",
    "    \n",
    "\n",
    "\n",
    " "
   ]
  },
  {
   "cell_type": "code",
   "execution_count": 6,
   "metadata": {
    "scrolled": true
   },
   "outputs": [],
   "source": [
    "dict = {'name':city_name, \n",
    "        'country': city_country,\n",
    "        'id': city_id, \n",
    "        'hem':city_hem,\n",
    "        'temp':city_temp,\n",
    "        'lat': city_lat,\n",
    "        'lon': city_lon,\n",
    "        'humidity': city_hum,\n",
    "        'clouds' : city_clouds,\n",
    "        'max_temp':city_temp_max,\n",
    "        'wind':city_wind,\n",
    "        'ideal':city_ideal\n",
    "        } \n",
    "  \n",
    "city_df = pd.DataFrame(dict) \n"
   ]
  },
  {
   "cell_type": "code",
   "execution_count": 7,
   "metadata": {},
   "outputs": [
    {
     "name": "stdout",
     "output_type": "stream",
     "text": [
      "<class 'pandas.core.frame.DataFrame'>\n",
      "RangeIndex: 571 entries, 0 to 570\n",
      "Data columns (total 12 columns):\n",
      "name        571 non-null object\n",
      "country     571 non-null object\n",
      "id          571 non-null int64\n",
      "hem         571 non-null object\n",
      "temp        571 non-null float64\n",
      "lat         571 non-null float64\n",
      "lon         571 non-null float64\n",
      "humidity    571 non-null int64\n",
      "clouds      571 non-null int64\n",
      "max_temp    571 non-null float64\n",
      "wind        571 non-null float64\n",
      "ideal       571 non-null object\n",
      "dtypes: float64(5), int64(3), object(4)\n",
      "memory usage: 53.7+ KB\n"
     ]
    }
   ],
   "source": [
    "city_df.info()"
   ]
  },
  {
   "cell_type": "markdown",
   "metadata": {},
   "source": [
    "### Convert Raw Data to DataFrame\n",
    "* Export the city data into a .csv.\n",
    "* Display the DataFrame"
   ]
  },
  {
   "cell_type": "code",
   "execution_count": 8,
   "metadata": {},
   "outputs": [],
   "source": [
    "city_df.to_csv('weather_data.csv')\n"
   ]
  },
  {
   "cell_type": "code",
   "execution_count": 9,
   "metadata": {},
   "outputs": [
    {
     "data": {
      "text/html": [
       "<div>\n",
       "<style scoped>\n",
       "    .dataframe tbody tr th:only-of-type {\n",
       "        vertical-align: middle;\n",
       "    }\n",
       "\n",
       "    .dataframe tbody tr th {\n",
       "        vertical-align: top;\n",
       "    }\n",
       "\n",
       "    .dataframe thead th {\n",
       "        text-align: right;\n",
       "    }\n",
       "</style>\n",
       "<table border=\"1\" class=\"dataframe\">\n",
       "  <thead>\n",
       "    <tr style=\"text-align: right;\">\n",
       "      <th></th>\n",
       "      <th>name</th>\n",
       "      <th>country</th>\n",
       "      <th>id</th>\n",
       "      <th>hem</th>\n",
       "      <th>temp</th>\n",
       "      <th>lat</th>\n",
       "      <th>lon</th>\n",
       "      <th>humidity</th>\n",
       "      <th>clouds</th>\n",
       "      <th>max_temp</th>\n",
       "      <th>wind</th>\n",
       "      <th>ideal</th>\n",
       "    </tr>\n",
       "  </thead>\n",
       "  <tbody>\n",
       "    <tr>\n",
       "      <td>0</td>\n",
       "      <td>Yellowknife</td>\n",
       "      <td>CA</td>\n",
       "      <td>6185377</td>\n",
       "      <td>North</td>\n",
       "      <td>40.73</td>\n",
       "      <td>62.46</td>\n",
       "      <td>-114.35</td>\n",
       "      <td>65</td>\n",
       "      <td>40</td>\n",
       "      <td>41.00</td>\n",
       "      <td>4.70</td>\n",
       "      <td>False</td>\n",
       "    </tr>\n",
       "    <tr>\n",
       "      <td>1</td>\n",
       "      <td>Caravelas</td>\n",
       "      <td>BR</td>\n",
       "      <td>3466980</td>\n",
       "      <td>South</td>\n",
       "      <td>71.80</td>\n",
       "      <td>-17.71</td>\n",
       "      <td>-39.25</td>\n",
       "      <td>90</td>\n",
       "      <td>100</td>\n",
       "      <td>71.80</td>\n",
       "      <td>12.95</td>\n",
       "      <td>False</td>\n",
       "    </tr>\n",
       "    <tr>\n",
       "      <td>2</td>\n",
       "      <td>Norman Wells</td>\n",
       "      <td>CA</td>\n",
       "      <td>6089245</td>\n",
       "      <td>North</td>\n",
       "      <td>30.20</td>\n",
       "      <td>65.28</td>\n",
       "      <td>-126.83</td>\n",
       "      <td>80</td>\n",
       "      <td>5</td>\n",
       "      <td>30.20</td>\n",
       "      <td>2.59</td>\n",
       "      <td>False</td>\n",
       "    </tr>\n",
       "    <tr>\n",
       "      <td>3</td>\n",
       "      <td>Albany</td>\n",
       "      <td>US</td>\n",
       "      <td>5106841</td>\n",
       "      <td>North</td>\n",
       "      <td>41.94</td>\n",
       "      <td>42.60</td>\n",
       "      <td>-73.97</td>\n",
       "      <td>60</td>\n",
       "      <td>56</td>\n",
       "      <td>43.00</td>\n",
       "      <td>8.37</td>\n",
       "      <td>False</td>\n",
       "    </tr>\n",
       "    <tr>\n",
       "      <td>4</td>\n",
       "      <td>Punta Arenas</td>\n",
       "      <td>CL</td>\n",
       "      <td>3874787</td>\n",
       "      <td>South</td>\n",
       "      <td>39.96</td>\n",
       "      <td>-53.15</td>\n",
       "      <td>-70.92</td>\n",
       "      <td>93</td>\n",
       "      <td>90</td>\n",
       "      <td>41.00</td>\n",
       "      <td>3.36</td>\n",
       "      <td>False</td>\n",
       "    </tr>\n",
       "    <tr>\n",
       "      <td>...</td>\n",
       "      <td>...</td>\n",
       "      <td>...</td>\n",
       "      <td>...</td>\n",
       "      <td>...</td>\n",
       "      <td>...</td>\n",
       "      <td>...</td>\n",
       "      <td>...</td>\n",
       "      <td>...</td>\n",
       "      <td>...</td>\n",
       "      <td>...</td>\n",
       "      <td>...</td>\n",
       "      <td>...</td>\n",
       "    </tr>\n",
       "    <tr>\n",
       "      <td>566</td>\n",
       "      <td>Marzuq</td>\n",
       "      <td>YE</td>\n",
       "      <td>72181</td>\n",
       "      <td>North</td>\n",
       "      <td>80.82</td>\n",
       "      <td>14.40</td>\n",
       "      <td>46.47</td>\n",
       "      <td>31</td>\n",
       "      <td>6</td>\n",
       "      <td>80.82</td>\n",
       "      <td>2.17</td>\n",
       "      <td>False</td>\n",
       "    </tr>\n",
       "    <tr>\n",
       "      <td>567</td>\n",
       "      <td>Kamaishi</td>\n",
       "      <td>JP</td>\n",
       "      <td>2112444</td>\n",
       "      <td>North</td>\n",
       "      <td>71.60</td>\n",
       "      <td>39.27</td>\n",
       "      <td>141.88</td>\n",
       "      <td>18</td>\n",
       "      <td>20</td>\n",
       "      <td>71.60</td>\n",
       "      <td>9.17</td>\n",
       "      <td>False</td>\n",
       "    </tr>\n",
       "    <tr>\n",
       "      <td>568</td>\n",
       "      <td>Bella Vista</td>\n",
       "      <td>US</td>\n",
       "      <td>4101114</td>\n",
       "      <td>North</td>\n",
       "      <td>55.78</td>\n",
       "      <td>36.43</td>\n",
       "      <td>-94.23</td>\n",
       "      <td>87</td>\n",
       "      <td>1</td>\n",
       "      <td>57.00</td>\n",
       "      <td>11.41</td>\n",
       "      <td>False</td>\n",
       "    </tr>\n",
       "    <tr>\n",
       "      <td>569</td>\n",
       "      <td>Cocobeach</td>\n",
       "      <td>GA</td>\n",
       "      <td>2401357</td>\n",
       "      <td>North</td>\n",
       "      <td>78.80</td>\n",
       "      <td>1.00</td>\n",
       "      <td>9.58</td>\n",
       "      <td>94</td>\n",
       "      <td>20</td>\n",
       "      <td>78.80</td>\n",
       "      <td>3.36</td>\n",
       "      <td>False</td>\n",
       "    </tr>\n",
       "    <tr>\n",
       "      <td>570</td>\n",
       "      <td>Valsād</td>\n",
       "      <td>IN</td>\n",
       "      <td>1253468</td>\n",
       "      <td>North</td>\n",
       "      <td>91.40</td>\n",
       "      <td>20.63</td>\n",
       "      <td>72.93</td>\n",
       "      <td>63</td>\n",
       "      <td>20</td>\n",
       "      <td>91.40</td>\n",
       "      <td>5.82</td>\n",
       "      <td>False</td>\n",
       "    </tr>\n",
       "  </tbody>\n",
       "</table>\n",
       "<p>571 rows × 12 columns</p>\n",
       "</div>"
      ],
      "text/plain": [
       "             name country       id    hem   temp    lat     lon  humidity  \\\n",
       "0     Yellowknife      CA  6185377  North  40.73  62.46 -114.35        65   \n",
       "1       Caravelas      BR  3466980  South  71.80 -17.71  -39.25        90   \n",
       "2    Norman Wells      CA  6089245  North  30.20  65.28 -126.83        80   \n",
       "3          Albany      US  5106841  North  41.94  42.60  -73.97        60   \n",
       "4    Punta Arenas      CL  3874787  South  39.96 -53.15  -70.92        93   \n",
       "..            ...     ...      ...    ...    ...    ...     ...       ...   \n",
       "566        Marzuq      YE    72181  North  80.82  14.40   46.47        31   \n",
       "567      Kamaishi      JP  2112444  North  71.60  39.27  141.88        18   \n",
       "568   Bella Vista      US  4101114  North  55.78  36.43  -94.23        87   \n",
       "569     Cocobeach      GA  2401357  North  78.80   1.00    9.58        94   \n",
       "570        Valsād      IN  1253468  North  91.40  20.63   72.93        63   \n",
       "\n",
       "     clouds  max_temp   wind  ideal  \n",
       "0        40     41.00   4.70  False  \n",
       "1       100     71.80  12.95  False  \n",
       "2         5     30.20   2.59  False  \n",
       "3        56     43.00   8.37  False  \n",
       "4        90     41.00   3.36  False  \n",
       "..      ...       ...    ...    ...  \n",
       "566       6     80.82   2.17  False  \n",
       "567      20     71.60   9.17  False  \n",
       "568       1     57.00  11.41  False  \n",
       "569      20     78.80   3.36  False  \n",
       "570      20     91.40   5.82  False  \n",
       "\n",
       "[571 rows x 12 columns]"
      ]
     },
     "execution_count": 9,
     "metadata": {},
     "output_type": "execute_result"
    }
   ],
   "source": [
    "city_df"
   ]
  },
  {
   "cell_type": "markdown",
   "metadata": {},
   "source": [
    "## Inspect the data and remove the cities where the humidity > 100%.\n",
    "----\n",
    "Skip this step if there are no cities that have humidity > 100%. "
   ]
  },
  {
   "cell_type": "code",
   "execution_count": null,
   "metadata": {},
   "outputs": [],
   "source": []
  },
  {
   "cell_type": "code",
   "execution_count": 17,
   "metadata": {},
   "outputs": [
    {
     "data": {
      "text/plain": [
       "0      False\n",
       "1      False\n",
       "2      False\n",
       "3      False\n",
       "4      False\n",
       "       ...  \n",
       "566    False\n",
       "567    False\n",
       "568    False\n",
       "569    False\n",
       "570    False\n",
       "Name: humidity, Length: 571, dtype: bool"
      ]
     },
     "execution_count": 17,
     "metadata": {},
     "output_type": "execute_result"
    }
   ],
   "source": [
    "#  Get the indices of cities that have humidity over 100%.\n",
    "filt = city_df[\"humidity\"]>100\n",
    "filt"
   ]
  },
  {
   "cell_type": "code",
   "execution_count": 18,
   "metadata": {},
   "outputs": [
    {
     "name": "stdout",
     "output_type": "stream",
     "text": [
      "<class 'pandas.core.frame.DataFrame'>\n",
      "RangeIndex: 571 entries, 0 to 570\n",
      "Data columns (total 12 columns):\n",
      "name        0 non-null object\n",
      "country     0 non-null object\n",
      "id          0 non-null float64\n",
      "hem         0 non-null object\n",
      "temp        0 non-null float64\n",
      "lat         0 non-null float64\n",
      "lon         0 non-null float64\n",
      "humidity    0 non-null float64\n",
      "clouds      0 non-null float64\n",
      "max_temp    0 non-null float64\n",
      "wind        0 non-null float64\n",
      "ideal       0 non-null object\n",
      "dtypes: float64(8), object(4)\n",
      "memory usage: 53.7+ KB\n"
     ]
    }
   ],
   "source": [
    "# Make a new DataFrame equal to the city data to drop all humidity outliers by index.\n",
    "# Passing \"inplace=False\" will make a copy of the city_data DataFrame, which we call \"clean_city_data\".\n",
    "\n",
    "clean_citydf= city_df.where(filt, inplace = False) \n",
    "clean_citydf.info()"
   ]
  },
  {
   "cell_type": "code",
   "execution_count": null,
   "metadata": {},
   "outputs": [],
   "source": [
    "# Extract relevant fields from the data frame\n",
    "#THERE ARE NO 100 HUMIDITY CITIES\n",
    "\n",
    "# Export the City_Data into a csv\n"
   ]
  },
  {
   "cell_type": "markdown",
   "metadata": {},
   "source": [
    "## Plotting the Data\n",
    "* Use proper labeling of the plots using plot titles (including date of analysis) and axes labels.\n",
    "* Save the plotted figures as .pngs."
   ]
  },
  {
   "cell_type": "markdown",
   "metadata": {},
   "source": [
    "## Latitude vs. Temperature Plot"
   ]
  },
  {
   "cell_type": "code",
   "execution_count": 19,
   "metadata": {
    "scrolled": true
   },
   "outputs": [
    {
     "data": {
      "image/png": "[encoded data removed]",
      "text/plain": [
       "<Figure size 432x288 with 1 Axes>"
      ]
     },
     "metadata": {
      "needs_background": "light"
     },
     "output_type": "display_data"
    }
   ],
   "source": [
    "lats = city_df['lat']\n",
    "temps = city_df['temp']\n",
    "\n",
    "# Build a scatter plot for each data type\n",
    "plt.scatter(lats, temps, marker=\"o\")\n",
    "\n",
    "# Incorporate the other graph properties\n",
    "plt.title(\"Temperature in World Cities\")\n",
    "plt.ylabel(\"Temperature (F)\")\n",
    "plt.xlabel(\"Latitude\")\n",
    "plt.grid(True)\n",
    "\n",
    "# Save the figure\n",
    "plt.savefig(\"TemperatureInWorldCities.png\")\n",
    "\n",
    "# Show plot\n",
    "plt.show()"
   ]
  },
  {
   "cell_type": "markdown",
   "metadata": {},
   "source": [
    "OBSERVATION - All of the hotter cities are between 0 and 30 deg latitude. This is a parabolic relationship"
   ]
  },
  {
   "cell_type": "markdown",
   "metadata": {},
   "source": [
    "## Latitude vs. Humidity Plot"
   ]
  },
  {
   "cell_type": "code",
   "execution_count": 25,
   "metadata": {},
   "outputs": [
    {
     "data": {
      "image/png": "[encoded data removed]",
      "text/plain": [
       "<Figure size 432x288 with 1 Axes>"
      ]
     },
     "metadata": {
      "needs_background": "light"
     },
     "output_type": "display_data"
    }
   ],
   "source": [
    "hum = city_df['humidity']\n",
    "\n",
    "# Build a scatter plot for each data type\n",
    "plt.scatter(lats, hum, marker=\"o\")\n",
    "\n",
    "# Incorporate the other graph properties\n",
    "plt.title(\"Humidity in World Cities\")\n",
    "plt.ylabel(\"Humidity\")\n",
    "plt.xlabel(\"Latitude\")\n",
    "plt.grid(True)\n",
    "\n",
    "# Save the figure\n",
    "plt.savefig(\"HumidityInWorldCities.png\")\n",
    "\n",
    "# Show plot\n",
    "plt.show()"
   ]
  },
  {
   "cell_type": "markdown",
   "metadata": {},
   "source": [
    "## Latitude vs. Cloudiness Plot"
   ]
  },
  {
   "cell_type": "code",
   "execution_count": 26,
   "metadata": {},
   "outputs": [
    {
     "data": {
      "image/png": "[encoded data removed]",
      "text/plain": [
       "<Figure size 432x288 with 1 Axes>"
      ]
     },
     "metadata": {
      "needs_background": "light"
     },
     "output_type": "display_data"
    }
   ],
   "source": [
    "clouds = city_df['clouds']\n",
    "\n",
    "# Build a scatter plot for each data type\n",
    "plt.scatter(lats, clouds, marker=\"o\")\n",
    "\n",
    "# Incorporate the other graph properties\n",
    "plt.title(\"Cloudiness in World Cities\")\n",
    "plt.ylabel(\"Cloudiness %\")\n",
    "plt.xlabel(\"Latitude\")\n",
    "plt.grid(True)\n",
    "\n",
    "# Save the figure\n",
    "plt.savefig(\"CloudinessInWorldCities.png\")\n",
    "\n",
    "# Show plot\n",
    "plt.show()"
   ]
  },
  {
   "cell_type": "markdown",
   "metadata": {},
   "source": [
    "## Latitude vs. Wind Speed Plot"
   ]
  },
  {
   "cell_type": "code",
   "execution_count": 28,
   "metadata": {},
   "outputs": [
    {
     "data": {
      "image/png": "[encoded data removed]",
      "text/plain": [
       "<Figure size 432x288 with 1 Axes>"
      ]
     },
     "metadata": {
      "needs_background": "light"
     },
     "output_type": "display_data"
    }
   ],
   "source": [
    "wind = city_df['wind']\n",
    "\n",
    "# Build a scatter plot for each data type\n",
    "plt.scatter(lats, wind, marker=\"o\")\n",
    "\n",
    "# Incorporate the other graph properties\n",
    "plt.title(\"Windiness in World Cities\")\n",
    "plt.ylabel(\"Wind (MPH)\")\n",
    "plt.xlabel(\"Latitude\")\n",
    "plt.grid(True)\n",
    "\n",
    "# Save the figure\n",
    "plt.savefig(\"WindInWorldCities.png\")\n",
    "\n",
    "# Show plot\n",
    "plt.show()"
   ]
  },
  {
   "cell_type": "markdown",
   "metadata": {},
   "source": [
    "## Linear Regression"
   ]
  },
  {
   "cell_type": "code",
   "execution_count": 38,
   "metadata": {},
   "outputs": [
    {
     "data": {
      "image/png": "[encoded data removed]",
      "text/plain": [
       "<Figure size 432x288 with 1 Axes>"
      ]
     },
     "metadata": {
      "needs_background": "light"
     },
     "output_type": "display_data"
    }
   ],
   "source": [
    "# OPTIONAL: Create a function to create Linear Regression plots\n",
    "x_values = city_df['lat']\n",
    "y_values = city_df['temp']\n",
    "(slope, intercept, rvalue, pvalue, stderr) = linregress(x_values, y_values)\n",
    "regress_values = x_values * slope + intercept\n",
    "line_eq = \"y = \" + str(round(slope,2)) + \"x + \" + str(round(intercept,2))\n",
    "\n",
    "# Build a scatter plot\n",
    "plt.scatter(x_values,y_values)\n",
    "plt.plot(x_values,regress_values,\"r-\")\n",
    "plt.annotate(line_eq,(6,10),fontsize=15,color=\"red\")\n",
    "plt.title(\"Temperature in World Cities\")\n",
    "plt.ylabel(\"Temperature (F)\")\n",
    "plt.xlabel(\"Latitude\")\n",
    "plt.grid(True)\n",
    "plt.show()\n",
    "\n",
    "\n",
    "\n",
    "#plt.scatter(lats, temps, marker=\"o\")\n",
    "\n",
    "# Incorporate the other graph properties\n",
    "\n",
    "\n",
    "# Save the figure\n",
    "#plt.savefig(\"TemperatureInWorldCities.png\")\n",
    "\n",
    "# Show plot\n",
    "plt.show()"
   ]
  },
  {
   "cell_type": "code",
   "execution_count": 32,
   "metadata": {},
   "outputs": [
    {
     "name": "stdout",
     "output_type": "stream",
     "text": [
      "<class 'pandas.core.frame.DataFrame'>\n",
      "Int64Index: 182 entries, 1 to 561\n",
      "Data columns (total 12 columns):\n",
      "name        182 non-null object\n",
      "country     182 non-null object\n",
      "id          182 non-null int64\n",
      "hem         182 non-null object\n",
      "temp        182 non-null float64\n",
      "lat         182 non-null float64\n",
      "lon         182 non-null float64\n",
      "humidity    182 non-null int64\n",
      "clouds      182 non-null int64\n",
      "max_temp    182 non-null float64\n",
      "wind        182 non-null float64\n",
      "ideal       182 non-null object\n",
      "dtypes: float64(5), int64(3), object(4)\n",
      "memory usage: 18.5+ KB\n"
     ]
    }
   ],
   "source": [
    "# Create Northern and Southern Hemisphere DataFrames\n",
    "\n",
    "north_df = city_df.loc[(city_df['hem'] == 'North')]\n",
    "north_df\n",
    "\n",
    "south_df = city_df.loc[(city_df['hem'] == 'South')]\n",
    "south_df"
   ]
  },
  {
   "cell_type": "markdown",
   "metadata": {},
   "source": [
    "####  Northern Hemisphere - Max Temp vs. Latitude Linear Regression"
   ]
  },
  {
   "cell_type": "code",
   "execution_count": 25,
   "metadata": {},
   "outputs": [
    {
     "data": {
      "image/png": "[encoded data removed]",
      "text/plain": [
       "<Figure size 432x288 with 1 Axes>"
      ]
     },
     "metadata": {
      "needs_background": "light"
     },
     "output_type": "display_data"
    }
   ],
   "source": [
    "#lats = north_df['lat']\n",
    "#temps = north_df['temp']\n",
    "\n",
    "x_values = north_df['lat']\n",
    "y_values = north_df['temp']\n",
    "(slope, intercept, rvalue, pvalue, stderr) = linregress(x_values, y_values)\n",
    "regress_values = x_values * slope + intercept\n",
    "line_eq = \"y = \" + str(round(slope,2)) + \"x + \" + str(round(intercept,2))\n",
    "\n",
    "\n",
    "\n",
    "# Build a scatter plot for each data type\n",
    "plt.scatter(x_values, y_values, marker=\"o\")\n",
    "plt.plot(x_values,regress_values,\"r-\")\n",
    "plt.annotate(line_eq,(6,10),fontsize=15,color=\"red\")\n",
    "# Incorporate the other graph properties\n",
    "plt.title(\"Northern Hemisphere - Max Temp vs. Latitude \")\n",
    "plt.ylabel(\"Temperature (F)\")\n",
    "plt.xlabel(\"Latitude\")\n",
    "plt.grid(True)\n",
    "\n",
    "# Save the figure\n",
    "plt.savefig(\"TemperatureInNHemCities.png\")\n",
    "\n",
    "# Show plot\n",
    "plt.show()"
   ]
  },
  {
   "cell_type": "markdown",
   "metadata": {},
   "source": [
    "#There appears to be a strong (neg) linear correlation between max temp and latitude in the northern hemisphere"
   ]
  },
  {
   "cell_type": "markdown",
   "metadata": {},
   "source": [
    "####  Southern Hemisphere - Max Temp vs. Latitude Linear Regression"
   ]
  },
  {
   "cell_type": "code",
   "execution_count": 28,
   "metadata": {},
   "outputs": [
    {
     "data": {
      "image/png": "[encoded data removed]",
      "text/plain": [
       "<Figure size 432x288 with 1 Axes>"
      ]
     },
     "metadata": {
      "needs_background": "light"
     },
     "output_type": "display_data"
    }
   ],
   "source": [
    "#lats = south_df['lat']\n",
    "#temps = south_df['temp']\n",
    "\n",
    "x_values = south_df['lat']\n",
    "y_values = south_df['temp']\n",
    "\n",
    "(slope, intercept, rvalue, pvalue, stderr) = linregress(x_values, y_values)\n",
    "regress_values = x_values * slope + intercept\n",
    "line_eq = \"y = \" + str(round(slope,2)) + \"x + \" + str(round(intercept,2))\n",
    "\n",
    "# Build a scatter plot for each data type\n",
    "plt.scatter(x_values, y_values, marker=\"o\")\n",
    "plt.plot(x_values,regress_values,\"r-\")\n",
    "plt.annotate(line_eq,(6,10),fontsize=15,color=\"red\")\n",
    "# Incorporate the other graph properties\n",
    "plt.title(\"Southern Hemisphere - Max Temp vs. Latitude \")\n",
    "plt.ylabel(\"Temperature (F)\")\n",
    "plt.xlabel(\"Latitude\")\n",
    "plt.grid(True)\n",
    "\n",
    "# Save the figure\n",
    "plt.savefig(\"TemperatureInSHemCities.png\")\n",
    "\n",
    "# Show plot\n",
    "plt.show()"
   ]
  },
  {
   "cell_type": "code",
   "execution_count": null,
   "metadata": {},
   "outputs": [],
   "source": [
    "#There appears to be a (pos) linear correlation between max temp and latitude in the southern hemisphere"
   ]
  },
  {
   "cell_type": "markdown",
   "metadata": {},
   "source": [
    "####  Northern Hemisphere - Humidity (%) vs. Latitude Linear Regression"
   ]
  },
  {
   "cell_type": "code",
   "execution_count": 30,
   "metadata": {},
   "outputs": [
    {
     "data": {
      "image/png": "[encoded data removed]",
      "text/plain": [
       "<Figure size 432x288 with 1 Axes>"
      ]
     },
     "metadata": {
      "needs_background": "light"
     },
     "output_type": "display_data"
    }
   ],
   "source": [
    "x_values = north_df['lat']\n",
    "y_values = north_df['humidity']\n",
    "(slope, intercept, rvalue, pvalue, stderr) = linregress(x_values, y_values)\n",
    "regress_values = x_values * slope + intercept\n",
    "line_eq = \"y = \" + str(round(slope,2)) + \"x + \" + str(round(intercept,2))\n",
    "\n",
    "\n",
    "\n",
    "# Build a scatter plot for each data type\n",
    "plt.scatter(x_values, y_values, marker=\"o\")\n",
    "plt.plot(x_values,regress_values,\"r-\")\n",
    "plt.annotate(line_eq,(6,10),fontsize=15,color=\"red\")\n",
    "# Incorporate the other graph properties\n",
    "plt.title(\"Northern Hemisphere - Humidity vs. Latitude \")\n",
    "plt.ylabel(\"Humidity (mmg)\")\n",
    "plt.xlabel(\"Latitude\")\n",
    "plt.grid(True)\n",
    "\n",
    "# Save the figure\n",
    "plt.savefig(\"HumInNHemCities.png\")\n",
    "\n",
    "# Show plot\n",
    "plt.show()"
   ]
  },
  {
   "cell_type": "code",
   "execution_count": null,
   "metadata": {},
   "outputs": [],
   "source": [
    "#There does not appear to be a correlation between latitude and humidity in the Northern Hemisphere. Most of the values appear to be between 60 and 85."
   ]
  },
  {
   "cell_type": "markdown",
   "metadata": {},
   "source": [
    "####  Southern Hemisphere - Humidity (%) vs. Latitude Linear Regression"
   ]
  },
  {
   "cell_type": "code",
   "execution_count": 31,
   "metadata": {},
   "outputs": [
    {
     "data": {
      "image/png": "[encoded data removed]",
      "text/plain": [
       "<Figure size 432x288 with 1 Axes>"
      ]
     },
     "metadata": {
      "needs_background": "light"
     },
     "output_type": "display_data"
    }
   ],
   "source": [
    "x_values = south_df['lat']\n",
    "y_values = south_df['humidity']\n",
    "(slope, intercept, rvalue, pvalue, stderr) = linregress(x_values, y_values)\n",
    "regress_values = x_values * slope + intercept\n",
    "line_eq = \"y = \" + str(round(slope,2)) + \"x + \" + str(round(intercept,2))\n",
    "\n",
    "\n",
    "\n",
    "# Build a scatter plot for each data type\n",
    "plt.scatter(x_values, y_values, marker=\"o\")\n",
    "plt.plot(x_values,regress_values,\"r-\")\n",
    "plt.annotate(line_eq,(6,10),fontsize=15,color=\"red\")\n",
    "# Incorporate the other graph properties\n",
    "plt.title(\"Southern Hemisphere - Humidity vs. Latitude \")\n",
    "plt.ylabel(\"Humidity (mmg)\")\n",
    "plt.xlabel(\"Latitude\")\n",
    "plt.grid(True)\n",
    "\n",
    "# Save the figure\n",
    "plt.savefig(\"HumInSHemCities.png\")\n",
    "\n",
    "# Show plot\n",
    "plt.show()"
   ]
  },
  {
   "cell_type": "code",
   "execution_count": null,
   "metadata": {},
   "outputs": [],
   "source": [
    "#There does not appear to be a correlation between latitude and humidity in the Southern Hemisphere. Most of the values appear to be between 60 and 90."
   ]
  },
  {
   "cell_type": "markdown",
   "metadata": {},
   "source": [
    "####  Northern Hemisphere - Cloudiness (%) vs. Latitude Linear Regression"
   ]
  },
  {
   "cell_type": "code",
   "execution_count": 33,
   "metadata": {},
   "outputs": [
    {
     "data": {
      "image/png": "[encoded data removed]",
      "text/plain": [
       "<Figure size 432x288 with 1 Axes>"
      ]
     },
     "metadata": {
      "needs_background": "light"
     },
     "output_type": "display_data"
    }
   ],
   "source": [
    "x_values = north_df['lat']\n",
    "y_values = north_df['clouds']\n",
    "(slope, intercept, rvalue, pvalue, stderr) = linregress(x_values, y_values)\n",
    "regress_values = x_values * slope + intercept\n",
    "line_eq = \"y = \" + str(round(slope,2)) + \"x + \" + str(round(intercept,2))\n",
    "\n",
    "\n",
    "\n",
    "# Build a scatter plot for each data type\n",
    "plt.scatter(x_values, y_values, marker=\"o\")\n",
    "plt.plot(x_values,regress_values,\"r-\")\n",
    "plt.annotate(line_eq,(6,10),fontsize=15,color=\"red\")\n",
    "# Incorporate the other graph properties\n",
    "plt.title(\"Northern Hemisphere - Cloudiness vs. Latitude \")\n",
    "plt.ylabel(\"Cloudiness (%)\")\n",
    "plt.xlabel(\"Latitude\")\n",
    "plt.grid(True)\n",
    "\n",
    "# Save the figure\n",
    "plt.savefig(\"CloudsInNHemCities.png\")\n",
    "\n",
    "# Show plot\n",
    "plt.show()"
   ]
  },
  {
   "cell_type": "code",
   "execution_count": null,
   "metadata": {},
   "outputs": [],
   "source": [
    "#There does not appear to be a correlation between latitude and cloudiness in the Northern Hemisphere. "
   ]
  },
  {
   "cell_type": "markdown",
   "metadata": {},
   "source": [
    "####  Southern Hemisphere - Cloudiness (%) vs. Latitude Linear Regression"
   ]
  },
  {
   "cell_type": "code",
   "execution_count": 34,
   "metadata": {},
   "outputs": [
    {
     "data": {
      "image/png": "[encoded data removed]",
      "text/plain": [
       "<Figure size 432x288 with 1 Axes>"
      ]
     },
     "metadata": {
      "needs_background": "light"
     },
     "output_type": "display_data"
    }
   ],
   "source": [
    "x_values = south_df['lat']\n",
    "y_values = south_df['clouds']\n",
    "(slope, intercept, rvalue, pvalue, stderr) = linregress(x_values, y_values)\n",
    "regress_values = x_values * slope + intercept\n",
    "line_eq = \"y = \" + str(round(slope,2)) + \"x + \" + str(round(intercept,2))\n",
    "\n",
    "\n",
    "\n",
    "# Build a scatter plot for each data type\n",
    "plt.scatter(x_values, y_values, marker=\"o\")\n",
    "plt.plot(x_values,regress_values,\"r-\")\n",
    "plt.annotate(line_eq,(6,10),fontsize=15,color=\"red\")\n",
    "# Incorporate the other graph properties\n",
    "plt.title(\"Southern Hemisphere - Cloudiness vs. Latitude \")\n",
    "plt.ylabel(\"Cloudiness (%)\")\n",
    "plt.xlabel(\"Latitude\")\n",
    "plt.grid(True)\n",
    "\n",
    "# Save the figure\n",
    "plt.savefig(\"CloudsInSHemCities.png\")\n",
    "\n",
    "# Show plot\n",
    "plt.show()"
   ]
  },
  {
   "cell_type": "code",
   "execution_count": null,
   "metadata": {},
   "outputs": [],
   "source": [
    "#There does not appear to be a correlation between latitude and cloudiness in the Southern Hemisphere. "
   ]
  },
  {
   "cell_type": "markdown",
   "metadata": {},
   "source": [
    "####  Northern Hemisphere - Wind Speed (mph) vs. Latitude Linear Regression"
   ]
  },
  {
   "cell_type": "code",
   "execution_count": 35,
   "metadata": {
    "scrolled": true
   },
   "outputs": [
    {
     "data": {
      "image/png": "[encoded data removed]",
      "text/plain": [
       "<Figure size 432x288 with 1 Axes>"
      ]
     },
     "metadata": {
      "needs_background": "light"
     },
     "output_type": "display_data"
    }
   ],
   "source": [
    "x_values = north_df['lat']\n",
    "y_values = north_df['wind']\n",
    "(slope, intercept, rvalue, pvalue, stderr) = linregress(x_values, y_values)\n",
    "regress_values = x_values * slope + intercept\n",
    "line_eq = \"y = \" + str(round(slope,2)) + \"x + \" + str(round(intercept,2))\n",
    "\n",
    "\n",
    "\n",
    "# Build a scatter plot for each data type\n",
    "plt.scatter(x_values, y_values, marker=\"o\")\n",
    "plt.plot(x_values,regress_values,\"r-\")\n",
    "plt.annotate(line_eq,(6,10),fontsize=15,color=\"red\")\n",
    "# Incorporate the other graph properties\n",
    "plt.title(\"Northern Hemisphere - Wind Speed vs. Latitude \")\n",
    "plt.ylabel(\"Wind Speed (MPH)\")\n",
    "plt.xlabel(\"Latitude\")\n",
    "plt.grid(True)\n",
    "\n",
    "# Save the figure\n",
    "plt.savefig(\"WindSpeedInNHemCities.png\")\n",
    "\n",
    "# Show plot\n",
    "plt.show()"
   ]
  },
  {
   "cell_type": "code",
   "execution_count": 37,
   "metadata": {},
   "outputs": [],
   "source": [
    "#There does not appear to be a correlation between latitude and wind speed in the Northern Hemisphere. Wind speeds appear to range from 0 to about 15 MPH"
   ]
  },
  {
   "cell_type": "markdown",
   "metadata": {},
   "source": [
    "####  Southern Hemisphere - Wind Speed (mph) vs. Latitude Linear Regression"
   ]
  },
  {
   "cell_type": "code",
   "execution_count": 36,
   "metadata": {},
   "outputs": [
    {
     "data": {
      "image/png": "[encoded data removed]",
      "text/plain": [
       "<Figure size 432x288 with 1 Axes>"
      ]
     },
     "metadata": {
      "needs_background": "light"
     },
     "output_type": "display_data"
    }
   ],
   "source": [
    "x_values = south_df['lat']\n",
    "y_values = south_df['wind']\n",
    "(slope, intercept, rvalue, pvalue, stderr) = linregress(x_values, y_values)\n",
    "regress_values = x_values * slope + intercept\n",
    "line_eq = \"y = \" + str(round(slope,2)) + \"x + \" + str(round(intercept,2))\n",
    "\n",
    "\n",
    "\n",
    "# Build a scatter plot for each data type\n",
    "plt.scatter(x_values, y_values, marker=\"o\")\n",
    "plt.plot(x_values,regress_values,\"r-\")\n",
    "plt.annotate(line_eq,(6,10),fontsize=15,color=\"red\")\n",
    "# Incorporate the other graph properties\n",
    "plt.title(\"Southern Hemisphere - Wind Speed vs. Latitude \")\n",
    "plt.ylabel(\"Wind Speed (MPH)\")\n",
    "plt.xlabel(\"Latitude\")\n",
    "plt.grid(True)\n",
    "\n",
    "# Save the figure\n",
    "plt.savefig(\"WindSpeedInSHemCities.png\")\n",
    "\n",
    "# Show plot\n",
    "plt.show()"
   ]
  },
  {
   "cell_type": "code",
   "execution_count": null,
   "metadata": {},
   "outputs": [],
   "source": [
    "#It appears that in the Southern Hemisphereit seems to get windier as you move toward the equator. Wind speeds appear to range from 0 to about 10 MPH"
   ]
  }
 ],
 "metadata": {
  "anaconda-cloud": {},
  "kernel_info": {
   "name": "python3"
  },
  "kernelspec": {
   "display_name": "Python 3",
   "language": "python",
   "name": "python3"
  },
  "language_info": {
   "codemirror_mode": {
    "name": "ipython",
    "version": 3
   },
   "file_extension": ".py",
   "mimetype": "text/x-python",
   "name": "python",
   "nbconvert_exporter": "python",
   "pygments_lexer": "ipython3",
   "version": "3.7.4"
  },
  "latex_envs": {
   "LaTeX_envs_menu_present": true,
   "autoclose": false,
   "autocomplete": true,
   "bibliofile": "biblio.bib",
   "cite_by": "apalike",
   "current_citInitial": 1,
   "eqLabelWithNumbers": true,
   "eqNumInitial": 1,
   "hotkeys": {
    "equation": "Ctrl-E",
    "itemize": "Ctrl-I"
   },
   "labels_anchors": false,
   "latex_user_defs": false,
   "report_style_numbering": false,
   "user_envs_cfg": false
  },
  "nteract": {
   "version": "0.12.3"
  }
 },
 "nbformat": 4,
 "nbformat_minor": 2
}
