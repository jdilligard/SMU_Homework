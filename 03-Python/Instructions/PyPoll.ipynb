{
 "cells": [
  {
   "cell_type": "markdown",
   "metadata": {},
   "source": [
    "# import libraries"
   ]
  },
  {
   "cell_type": "code",
   "execution_count": 1,
   "metadata": {},
   "outputs": [],
   "source": [
    "#importing needed libraries\n",
    "import csv\n",
    "import os\n",
    "import statistics "
   ]
  },
  {
   "cell_type": "markdown",
   "metadata": {},
   "source": [
    "# Open the file"
   ]
  },
  {
   "cell_type": "code",
   "execution_count": 2,
   "metadata": {
    "scrolled": true
   },
   "outputs": [],
   "source": [
    "#opening the file\n",
    "csvpath = os.path.join('..', 'PyPoll','Resources', 'election_data.csv')\n",
    "lines = 0\n",
    "csvpath = r\"PyPoll\\Resources\\election_data.csv\"\n",
    "\n",
    "voter_id = []\n",
    "county = []\n",
    "candidate = []\n",
    "\n",
    "#reading the data file\n",
    "with open(csvpath) as csvfile:    \n",
    "    csv_reader = csv.reader(csvfile, delimiter=\",\")\n",
    "    csvheader = next(csv_reader)  #Storing the header row'\n",
    "    for row in csv_reader:     #putting id,county, and candidate in individual lists\n",
    "        v_id = row[0]      \n",
    "        co = row[1]\n",
    "        ca = row[2]\n",
    "        voter_id.append(v_id)\n",
    "        county.append(co)\n",
    "        candidate.append(ca)        \n"
   ]
  },
  {
   "cell_type": "markdown",
   "metadata": {},
   "source": [
    "## Calulating all of the needed metrics"
   ]
  },
  {
   "cell_type": "code",
   "execution_count": 3,
   "metadata": {},
   "outputs": [
    {
     "name": "stdout",
     "output_type": "stream",
     "text": [
      "Total Votes = 3521001\n"
     ]
    }
   ],
   "source": [
    "#Calculating all of the needed metrics\n",
    "total_votes = len(voter_id)\n",
    "print(f\"Total Votes = {total_votes}\")\n",
    "count_khan = candidate.count(\"Khan\")\n",
    "count_correy = candidate.count(\"Correy\")\n",
    "count_li = candidate.count(\"Li\")\n",
    "count_otooley = candidate.count(\"O'Tooley\")\n",
    "\n",
    "per_khan = count_khan/total_votes * 100\n",
    "per_correy = count_correy/total_votes *100\n",
    "per_li = count_li/total_votes *100\n",
    "per_otooley= count_otooley/total_votes *100"
   ]
  },
  {
   "cell_type": "markdown",
   "metadata": {},
   "source": [
    "## Projecting a winner"
   ]
  },
  {
   "cell_type": "code",
   "execution_count": 4,
   "metadata": {
    "scrolled": true
   },
   "outputs": [],
   "source": [
    "#Projecting a winner\n",
    "winner = []\n",
    "winner.append(count_khan)\n",
    "winner.append(count_correy)\n",
    "winner.append(count_li)\n",
    "winner.append(count_otooley)\n",
    "winner_amount = max(winner)\n",
    "winner_index = winner.index(winner_amount)\n",
    "\n",
    "if winner_index == 0:\n",
    "    winner_line = \"Winner: Khan\"\n",
    "elif (winner_index == 1):\n",
    "    winner_line = \"Winner: Correy\"\n",
    "elif (winner_index == 2):\n",
    "    winner_line = \"Winner: Li\"\n",
    "elif (winner_index == 3):\n",
    "    winner_line = \"Winner: O'Tooley\"\n",
    "else:\n",
    "    winner_line = \"error in projecting winner\"\n"
   ]
  },
  {
   "cell_type": "markdown",
   "metadata": {},
   "source": [
    "## Printing the Report"
   ]
  },
  {
   "cell_type": "code",
   "execution_count": 5,
   "metadata": {},
   "outputs": [
    {
     "name": "stdout",
     "output_type": "stream",
     "text": [
      "Election Results\n",
      "=========================\n",
      "Total Votes: 3521001\n",
      "=========================\n",
      "Khan:  63.00% (2218231)\n",
      "Correy:  20.00% (704200)\n",
      "Li:  14.00% (492940)\n",
      "O'Tooley:  3.00% (105630)\n",
      "=========================\n",
      "Winner: Khan\n"
     ]
    }
   ],
   "source": [
    "#Printing the Report\n",
    "#Writing to the screen and the data file\n",
    "with open('pypoll_output_file.txt', 'w') as file:  # Use file to refer to the file object\n",
    "\n",
    "    line = \"Election Results\"\n",
    "    print(line)\n",
    "    file.write(line)\n",
    "    file.write(\"\\n\")\n",
    "    line = \"=========================\"\n",
    "    print(line)\n",
    "    file.write(line)\n",
    "    file.write(\"\\n\")\n",
    "    line = f\"Total Votes: {total_votes}\"\n",
    "    print(line)\n",
    "    file.write(line)\n",
    "    file.write(\"\\n\")\n",
    "    line = \"=========================\"\n",
    "    print(line)\n",
    "    file.write(line)\n",
    "    file.write(\"\\n\")\n",
    "    line = f\"Khan:  {per_khan:.2f}% ({count_khan})\"\n",
    "    print(line)\n",
    "    file.write(line)\n",
    "    file.write(\"\\n\")\n",
    "    line = f\"Correy:  {per_correy:.2f}% ({count_correy})\"\n",
    "    print(line)\n",
    "    file.write(line)\n",
    "    file.write(\"\\n\")\n",
    "    line = f\"Li:  {per_li:.2f}% ({count_li})\"\n",
    "    print(line)\n",
    "    file.write(line)\n",
    "    file.write(\"\\n\")\n",
    "    line = f\"O'Tooley:  {per_otooley:.2f}% ({count_otooley})\"\n",
    "    print(line)\n",
    "    file.write(line)\n",
    "    file.write(\"\\n\")\n",
    "    line = \"=========================\"\n",
    "    print(line)\n",
    "    file.write(line)\n",
    "    file.write(\"\\n\")\n",
    "    print(winner_line)\n",
    "    file.write(line)\n",
    "    file.write(\"\\n\")\n",
    "    \n",
    "    "
   ]
  }
 ],
 "metadata": {
  "kernelspec": {
   "display_name": "Python 3",
   "language": "python",
   "name": "python3"
  },
  "language_info": {
   "codemirror_mode": {
    "name": "ipython",
    "version": 3
   },
   "file_extension": ".py",
   "mimetype": "text/x-python",
   "name": "python",
   "nbconvert_exporter": "python",
   "pygments_lexer": "ipython3",
   "version": "3.7.4"
  }
 },
 "nbformat": 4,
 "nbformat_minor": 2
}
