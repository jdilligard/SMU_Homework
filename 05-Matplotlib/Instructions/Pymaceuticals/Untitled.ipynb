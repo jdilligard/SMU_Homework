{
 "cells": [
  {
   "cell_type": "code",
   "execution_count": 4,
   "metadata": {},
   "outputs": [],
   "source": [
    "import pandas as pd\n",
    "\n",
    "# List of Tuples\n",
    "students = [('jack', 34, 'Sydeny'),\n",
    "            ('Riti', 30, 'Delhi'),\n",
    "            ('Aadi', 16, 'New York'),\n",
    "            ('Riti', 30, 'Delhi'),\n",
    "            ('Riti', 30, 'Delhi'),\n",
    "            ('Riti', 30, 'Mumbai'),\n",
    "            ('Aadi', 40, 'London'),\n",
    "            ('Sachin', 30, 'Delhi')\n",
    "            ]"
   ]
  },
  {
   "cell_type": "code",
   "execution_count": 5,
   "metadata": {
    "scrolled": true
   },
   "outputs": [],
   "source": [
    "dfObj = pd.DataFrame(students, columns=['Name', 'Age', 'City'])"
   ]
  },
  {
   "cell_type": "code",
   "execution_count": 7,
   "metadata": {},
   "outputs": [
    {
     "name": "stdout",
     "output_type": "stream",
     "text": [
      "Duplicate Rows based on a single column are:\n",
      "   Name  Age    City\n",
      "3  Riti   30   Delhi\n",
      "4  Riti   30   Delhi\n",
      "5  Riti   30  Mumbai\n",
      "6  Aadi   40  London\n"
     ]
    }
   ],
   "source": [
    "duplicateRowsDF = dfObj[dfObj.duplicated(['Name'])]\n",
    "duplicateRowsDF = dfObj[dfObj.duplicated(['Name'])]\n",
    "print(\"Duplicate Rows based on a single column are:\", duplicateRowsDF, sep='\\n')"
   ]
  }
 ],
 "metadata": {
  "kernelspec": {
   "display_name": "Python 3",
   "language": "python",
   "name": "python3"
  },
  "language_info": {
   "codemirror_mode": {
    "name": "ipython",
    "version": 3
   },
   "file_extension": ".py",
   "mimetype": "text/x-python",
   "name": "python",
   "nbconvert_exporter": "python",
   "pygments_lexer": "ipython3",
   "version": "3.7.4"
  }
 },
 "nbformat": 4,
 "nbformat_minor": 2
}
