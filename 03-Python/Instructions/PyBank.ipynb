{
 "cells": [
  {
   "cell_type": "markdown",
   "metadata": {},
   "source": [
    "# import libraries"
   ]
  },
  {
   "cell_type": "code",
   "execution_count": 4,
   "metadata": {},
   "outputs": [],
   "source": [
    "#importing needed libraries\n",
    "import csv\n",
    "import os\n",
    "import statistics "
   ]
  },
  {
   "cell_type": "markdown",
   "metadata": {},
   "source": [
    "# Open the file"
   ]
  },
  {
   "cell_type": "code",
   "execution_count": 15,
   "metadata": {
    "scrolled": true
   },
   "outputs": [
    {
     "name": "stdout",
     "output_type": "stream",
     "text": [
      "Financial Analysis\n",
      "---------------------\n",
      "Total Months:86\n",
      " \n",
      "Total: $38382578\n",
      " \n",
      "Average Change: $-2315.12\n",
      " \n",
      "Greatest Increase in Profits: Feb-2012  ($1926159)\n",
      " \n",
      "Decrease Increase in Profits: Sep-2013  ($-2196167)\n",
      " \n"
     ]
    }
   ],
   "source": [
    "#opening the file\n",
    "csvpath = os.path.join('..', 'PyBank','Resources', 'budget_data.csv')\n",
    "lines = 0\n",
    "csvpath = r\"PyBank\\Resources\\budget_data.csv\"\n",
    "\n",
    "dates = []\n",
    "profloss = []\n",
    "profincr = [0]\n",
    "\n",
    "#reading the data file\n",
    "with open(csvpath) as csvfile:    \n",
    "    csv_reader = csv.reader(csvfile, delimiter=\",\")\n",
    "    csvheader = next(csv_reader)  #Storing the header row'\n",
    "    i = 1  \n",
    "\n",
    "    for row in csv_reader:     #putting the dates and profits in individual lists\n",
    "        day = row[0]       \n",
    "        money = int(row[1])     \n",
    "        dates.append(day)\n",
    "        profloss.append(money)\n",
    "        \n",
    "         \n",
    "\n",
    "while i < len(profloss):       #Calculating the profit/loss \n",
    "    thisprof = i-1\n",
    "    nextprof = i\n",
    "    profincr.append(profloss[nextprof] - profloss[thisprof])\n",
    "    i=i+1\n",
    "\n",
    "total_months = len(profloss)  #Getting the requested data\n",
    "max_pf= max(profincr)\n",
    "min_pf = min(profincr)\n",
    "sum_pf = sum(profloss)\n",
    "\n",
    "max_index = profincr.index(max_pf)\n",
    "min_index = profincr.index(min_pf)\n",
    "max_date = dates[max_index]\n",
    "min_date = dates[min_index]\n",
    "profincr.remove(0)                #I calculated this offset\n",
    "avg_ch = statistics.mean(profincr)\n",
    "\n",
    "\n",
    "#Writing to the screen and the data file\n",
    "with open('pybank_output_file.txt', 'w') as file:  # Use file to refer to the file object\n",
    "\n",
    "    title1 = \"Financial Analysis\"\n",
    "    print(title1)\n",
    "    file.write(title1)\n",
    "    file.write(\"\\n\")\n",
    "    title2 = \"---------------------\"\n",
    "    file.write(\"\\n\")\n",
    "    print(title2)\n",
    "    file.write(title2)\n",
    "    file.write(\"\\n\")\n",
    "    title3 = f\"Total Months:{total_months}\\n \"    #Using f'strings to format  \n",
    "    print(title3)\n",
    "    file.write(title3)\n",
    "    title3 = f\"Total: ${sum_pf}\\n \"  \n",
    "    print(title3)\n",
    "    file.write(title3)\n",
    "    title3 = f\"Average Change: ${avg_ch:.2f}\\n \"    #setting the change part of this dollar amount\n",
    "    print(title3)\n",
    "    file.write(title3)\n",
    "    title3 = f\"Greatest Increase in Profits: {max_date}  (${max_pf})\\n \"\n",
    "    print(title3)\n",
    "    file.write(title3)\n",
    "    title3 = f\"Decrease Increase in Profits: {min_date}  (${min_pf})\\n \"\n",
    "    print(title3)\n",
    "    file.write(title3)\n",
    "\n",
    "        "
   ]
  }
 ],
 "metadata": {
  "kernelspec": {
   "display_name": "Python 3",
   "language": "python",
   "name": "python3"
  },
  "language_info": {
   "codemirror_mode": {
    "name": "ipython",
    "version": 3
   },
   "file_extension": ".py",
   "mimetype": "text/x-python",
   "name": "python",
   "nbconvert_exporter": "python",
   "pygments_lexer": "ipython3",
   "version": "3.7.4"
  }
 },
 "nbformat": 4,
 "nbformat_minor": 2
}
