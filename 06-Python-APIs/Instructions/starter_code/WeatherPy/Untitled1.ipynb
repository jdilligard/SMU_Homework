{
 "cells": [
  {
   "cell_type": "code",
   "execution_count": null,
   "metadata": {},
   "outputs": [],
   "source": [
    "\n",
    "edit\n",
    "play_arrow\n",
    "\n",
    "brightness_4\n",
    "def romanToInt(rom): \n",
    "    value = { \n",
    "        'M': 1000, \n",
    "        'D': 500, \n",
    "        'C': 100, \n",
    "        'L': 50, \n",
    "        'X': 10, \n",
    "        'V': 5, \n",
    "        'I': 1\n",
    "    } \n",
    "  \n",
    "    # Initialize previous character and answer \n",
    "    p = 0\n",
    "    ans = 0\n",
    "      \n",
    "    # Traverse through all characters \n",
    "    n = len(rom)  \n",
    "    for i in range(n-1,-1,-1): \n",
    "  \n",
    "        # If greater than or equal to previous, \n",
    "        # add to answer  \n",
    "        if value[rom[i]] >= p: \n",
    "            ans += value[rom[i]] \n",
    "  \n",
    "        # If smaller than previous   \n",
    "        else: \n",
    "            ans -= value[rom[i]] \n",
    "  \n",
    "        # Update previous \n",
    "        p = value[rom[i]] \n",
    "  \n",
    "    print(ans) "
   ]
  }
 ],
 "metadata": {
  "kernelspec": {
   "display_name": "Python 3",
   "language": "python",
   "name": "python3"
  },
  "language_info": {
   "codemirror_mode": {
    "name": "ipython",
    "version": 3
   },
   "file_extension": ".py",
   "mimetype": "text/x-python",
   "name": "python",
   "nbconvert_exporter": "python",
   "pygments_lexer": "ipython3",
   "version": "3.7.4"
  }
 },
 "nbformat": 4,
 "nbformat_minor": 2
}
